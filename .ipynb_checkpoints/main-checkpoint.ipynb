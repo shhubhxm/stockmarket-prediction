{
 "cells": [
  {
   "cell_type": "code",
   "execution_count": 1,
   "metadata": {},
   "outputs": [],
   "source": [
    "import yfinance as yf\n",
    "import pandas as pd"
   ]
  },
  {
   "cell_type": "code",
   "execution_count": 2,
   "metadata": {},
   "outputs": [
    {
     "name": "stdout",
     "output_type": "stream",
     "text": [
      "[*********************100%***********************]  1 of 1 completed\n"
     ]
    }
   ],
   "source": [
    "df = yf.download('RELIANCE.NS')"
   ]
  },
  {
   "cell_type": "code",
   "execution_count": 3,
   "metadata": {},
   "outputs": [
    {
     "data": {
      "text/html": [
       "<div>\n",
       "<style scoped>\n",
       "    .dataframe tbody tr th:only-of-type {\n",
       "        vertical-align: middle;\n",
       "    }\n",
       "\n",
       "    .dataframe tbody tr th {\n",
       "        vertical-align: top;\n",
       "    }\n",
       "\n",
       "    .dataframe thead th {\n",
       "        text-align: right;\n",
       "    }\n",
       "</style>\n",
       "<table border=\"1\" class=\"dataframe\">\n",
       "  <thead>\n",
       "    <tr style=\"text-align: right;\">\n",
       "      <th></th>\n",
       "      <th>Open</th>\n",
       "      <th>High</th>\n",
       "      <th>Low</th>\n",
       "      <th>Close</th>\n",
       "      <th>Adj Close</th>\n",
       "      <th>Volume</th>\n",
       "    </tr>\n",
       "    <tr>\n",
       "      <th>Date</th>\n",
       "      <th></th>\n",
       "      <th></th>\n",
       "      <th></th>\n",
       "      <th></th>\n",
       "      <th></th>\n",
       "      <th></th>\n",
       "    </tr>\n",
       "  </thead>\n",
       "  <tbody>\n",
       "    <tr>\n",
       "      <th>1996-01-01</th>\n",
       "      <td>15.859429</td>\n",
       "      <td>15.944529</td>\n",
       "      <td>15.754989</td>\n",
       "      <td>15.917452</td>\n",
       "      <td>10.543346</td>\n",
       "      <td>48051995</td>\n",
       "    </tr>\n",
       "    <tr>\n",
       "      <th>1996-01-02</th>\n",
       "      <td>15.878770</td>\n",
       "      <td>15.956133</td>\n",
       "      <td>15.677626</td>\n",
       "      <td>15.793671</td>\n",
       "      <td>10.461358</td>\n",
       "      <td>77875009</td>\n",
       "    </tr>\n",
       "    <tr>\n",
       "      <th>1996-01-03</th>\n",
       "      <td>16.052837</td>\n",
       "      <td>16.783918</td>\n",
       "      <td>15.878770</td>\n",
       "      <td>15.913584</td>\n",
       "      <td>10.540785</td>\n",
       "      <td>96602936</td>\n",
       "    </tr>\n",
       "    <tr>\n",
       "      <th>1996-01-04</th>\n",
       "      <td>15.762726</td>\n",
       "      <td>15.813012</td>\n",
       "      <td>15.553845</td>\n",
       "      <td>15.766594</td>\n",
       "      <td>10.443419</td>\n",
       "      <td>100099436</td>\n",
       "    </tr>\n",
       "    <tr>\n",
       "      <th>1996-01-05</th>\n",
       "      <td>15.704703</td>\n",
       "      <td>15.704703</td>\n",
       "      <td>15.522900</td>\n",
       "      <td>15.658285</td>\n",
       "      <td>10.371678</td>\n",
       "      <td>76935930</td>\n",
       "    </tr>\n",
       "  </tbody>\n",
       "</table>\n",
       "</div>"
      ],
      "text/plain": [
       "                 Open       High        Low      Close  Adj Close     Volume\n",
       "Date                                                                        \n",
       "1996-01-01  15.859429  15.944529  15.754989  15.917452  10.543346   48051995\n",
       "1996-01-02  15.878770  15.956133  15.677626  15.793671  10.461358   77875009\n",
       "1996-01-03  16.052837  16.783918  15.878770  15.913584  10.540785   96602936\n",
       "1996-01-04  15.762726  15.813012  15.553845  15.766594  10.443419  100099436\n",
       "1996-01-05  15.704703  15.704703  15.522900  15.658285  10.371678   76935930"
      ]
     },
     "execution_count": 3,
     "metadata": {},
     "output_type": "execute_result"
    }
   ],
   "source": [
    "df.head()"
   ]
  },
  {
   "cell_type": "code",
   "execution_count": 4,
   "metadata": {},
   "outputs": [
    {
     "data": {
      "text/html": [
       "<div>\n",
       "<style scoped>\n",
       "    .dataframe tbody tr th:only-of-type {\n",
       "        vertical-align: middle;\n",
       "    }\n",
       "\n",
       "    .dataframe tbody tr th {\n",
       "        vertical-align: top;\n",
       "    }\n",
       "\n",
       "    .dataframe thead th {\n",
       "        text-align: right;\n",
       "    }\n",
       "</style>\n",
       "<table border=\"1\" class=\"dataframe\">\n",
       "  <thead>\n",
       "    <tr style=\"text-align: right;\">\n",
       "      <th></th>\n",
       "      <th>Open</th>\n",
       "      <th>High</th>\n",
       "      <th>Low</th>\n",
       "      <th>Close</th>\n",
       "      <th>Adj Close</th>\n",
       "      <th>Volume</th>\n",
       "    </tr>\n",
       "    <tr>\n",
       "      <th>Date</th>\n",
       "      <th></th>\n",
       "      <th></th>\n",
       "      <th></th>\n",
       "      <th></th>\n",
       "      <th></th>\n",
       "      <th></th>\n",
       "    </tr>\n",
       "  </thead>\n",
       "  <tbody>\n",
       "    <tr>\n",
       "      <th>2021-05-11</th>\n",
       "      <td>1915.000000</td>\n",
       "      <td>1938.550049</td>\n",
       "      <td>1910.000000</td>\n",
       "      <td>1933.150024</td>\n",
       "      <td>1933.150024</td>\n",
       "      <td>6220217</td>\n",
       "    </tr>\n",
       "    <tr>\n",
       "      <th>2021-05-12</th>\n",
       "      <td>1930.099976</td>\n",
       "      <td>1932.900024</td>\n",
       "      <td>1907.000000</td>\n",
       "      <td>1913.150024</td>\n",
       "      <td>1913.150024</td>\n",
       "      <td>6081627</td>\n",
       "    </tr>\n",
       "    <tr>\n",
       "      <th>2021-05-14</th>\n",
       "      <td>1928.050049</td>\n",
       "      <td>1942.000000</td>\n",
       "      <td>1906.000000</td>\n",
       "      <td>1937.300049</td>\n",
       "      <td>1937.300049</td>\n",
       "      <td>6134079</td>\n",
       "    </tr>\n",
       "    <tr>\n",
       "      <th>2021-05-17</th>\n",
       "      <td>1937.300049</td>\n",
       "      <td>1963.449951</td>\n",
       "      <td>1930.400024</td>\n",
       "      <td>1960.349976</td>\n",
       "      <td>1960.349976</td>\n",
       "      <td>5479424</td>\n",
       "    </tr>\n",
       "    <tr>\n",
       "      <th>2021-05-18</th>\n",
       "      <td>1981.000000</td>\n",
       "      <td>2002.599976</td>\n",
       "      <td>1972.500000</td>\n",
       "      <td>1987.949951</td>\n",
       "      <td>1987.949951</td>\n",
       "      <td>5566402</td>\n",
       "    </tr>\n",
       "  </tbody>\n",
       "</table>\n",
       "</div>"
      ],
      "text/plain": [
       "                   Open         High          Low        Close    Adj Close  \\\n",
       "Date                                                                          \n",
       "2021-05-11  1915.000000  1938.550049  1910.000000  1933.150024  1933.150024   \n",
       "2021-05-12  1930.099976  1932.900024  1907.000000  1913.150024  1913.150024   \n",
       "2021-05-14  1928.050049  1942.000000  1906.000000  1937.300049  1937.300049   \n",
       "2021-05-17  1937.300049  1963.449951  1930.400024  1960.349976  1960.349976   \n",
       "2021-05-18  1981.000000  2002.599976  1972.500000  1987.949951  1987.949951   \n",
       "\n",
       "             Volume  \n",
       "Date                 \n",
       "2021-05-11  6220217  \n",
       "2021-05-12  6081627  \n",
       "2021-05-14  6134079  \n",
       "2021-05-17  5479424  \n",
       "2021-05-18  5566402  "
      ]
     },
     "execution_count": 4,
     "metadata": {},
     "output_type": "execute_result"
    }
   ],
   "source": [
    "df.tail()"
   ]
  },
  {
   "cell_type": "code",
   "execution_count": 5,
   "metadata": {},
   "outputs": [],
   "source": [
    "import numpy as np\n",
    "import math \n",
    "from sklearn.preprocessing import MinMaxScaler\n",
    "import matplotlib.pyplot as plt\n",
    "plt.style.use('fivethirtyeight')\n",
    "from tensorflow.keras.models import Sequential\n",
    "from tensorflow.keras.layers import Dense\n",
    "from tensorflow.keras.layers import LSTM"
   ]
  },
  {
   "cell_type": "code",
   "execution_count": 6,
   "metadata": {},
   "outputs": [
    {
     "data": {
      "text/plain": [
       "(6378, 6)"
      ]
     },
     "execution_count": 6,
     "metadata": {},
     "output_type": "execute_result"
    }
   ],
   "source": [
    "df.shape"
   ]
  },
  {
   "cell_type": "markdown",
   "metadata": {},
   "source": [
    "## Historical Data Graph"
   ]
  },
  {
   "cell_type": "code",
   "execution_count": 7,
   "metadata": {},
   "outputs": [
    {
     "data": {
      "image/png": "[encoded data removed]",
      "text/plain": [
       "<Figure size 1152x576 with 1 Axes>"
      ]
     },
     "metadata": {},
     "output_type": "display_data"
    }
   ],
   "source": [
    "plt.figure(figsize=(16,8))\n",
    "plt.title('historical price')\n",
    "plt.plot(df['Close'])\n",
    "plt.xlabel('Date', fontsize=18)\n",
    "plt.ylabel('Close_Price', fontsize=18)\n",
    "plt.show()"
   ]
  },
  {
   "cell_type": "code",
   "execution_count": 8,
   "metadata": {},
   "outputs": [],
   "source": [
    "df = df['Close']"
   ]
  },
  {
   "cell_type": "code",
   "execution_count": 9,
   "metadata": {},
   "outputs": [
    {
     "name": "stdout",
     "output_type": "stream",
     "text": [
      "[[  15.91745186]\n",
      " [  15.79367065]\n",
      " [  15.91358376]\n",
      " ...\n",
      " [1937.30004883]\n",
      " [1960.34997559]\n",
      " [1987.94995117]]\n"
     ]
    }
   ],
   "source": [
    "df = np.array(df).reshape(-1,1)\n",
    "print(df)"
   ]
  },
  {
   "cell_type": "markdown",
   "metadata": {},
   "source": [
    "## Scaled Data"
   ]
  },
  {
   "cell_type": "code",
   "execution_count": 10,
   "metadata": {},
   "outputs": [],
   "source": [
    "scaler = MinMaxScaler(feature_range=(0,1))\n",
    "scaled_df = scaler.fit_transform(np.array(df).reshape(-1,1))"
   ]
  },
  {
   "cell_type": "markdown",
   "metadata": {},
   "source": [
    "training_size=int(len(scaled_df)*0.8)\n",
    "test_size=len(scaled_df)-training_size\n",
    "train_data =scaled_df[0:training_size,:]\n",
    "test_data = scaled_df[training_size:len(scaled_df),:1]\n",
    "training_size,test_size"
   ]
  },
  {
   "cell_type": "markdown",
   "metadata": {},
   "source": [
    "## Train-Test-Split"
   ]
  },
  {
   "cell_type": "code",
   "execution_count": 11,
   "metadata": {},
   "outputs": [
    {
     "data": {
      "text/plain": [
       "5103"
      ]
     },
     "execution_count": 11,
     "metadata": {},
     "output_type": "execute_result"
    }
   ],
   "source": [
    "scaled_df\n",
    "training_data_len = math.ceil(len(scaled_df)*0.8)\n",
    "training_data_len"
   ]
  },
  {
   "cell_type": "code",
   "execution_count": 12,
   "metadata": {},
   "outputs": [
    {
     "name": "stdout",
     "output_type": "stream",
     "text": [
      "[array([0.00174118, 0.00168765, 0.0017395 , 0.00167594, 0.00162911,\n",
      "       0.00135815, 0.00117082, 0.00100858, 0.00120093, 0.00113402,\n",
      "       0.00106879, 0.0010805 , 0.00083295, 0.00066737, 0.00056534,\n",
      "       0.00066235, 0.00041648, 0.0002258 , 0.        , 0.        ,\n",
      "       0.00040477, 0.0009032 , 0.00077107, 0.00100858, 0.00167594,\n",
      "       0.00224296, 0.00162409, 0.00174954, 0.00235168, 0.00278655,\n",
      "       0.00228979, 0.00273637, 0.00274139, 0.00261595, 0.00247879,\n",
      "       0.00255573, 0.00214929, 0.00214929, 0.00253399, 0.00245203,\n",
      "       0.00246876, 0.00238178, 0.00241858, 0.00194523, 0.00198538,\n",
      "       0.00191178, 0.00191178, 0.00216267, 0.0022279 , 0.00218943,\n",
      "       0.00221285, 0.00259086, 0.00245872, 0.00245705, 0.00220783,\n",
      "       0.00187331, 0.00144178, 0.00144178, 0.00191345, 0.00162744])]\n",
      "[0.0015872970937636458]\n",
      "\n"
     ]
    }
   ],
   "source": [
    "train_data = scaled_df[0:training_data_len , :]\n",
    "\n",
    "x_train = []\n",
    "y_train = []\n",
    "\n",
    "for i in range(60, len(train_data)):\n",
    "    x_train.append(train_data[i-60:i, 0])\n",
    "    y_train.append(train_data[i, 0])\n",
    "    if i<= 60:\n",
    "        print(x_train)\n",
    "        print(y_train)\n",
    "        print()"
   ]
  },
  {
   "cell_type": "code",
   "execution_count": 13,
   "metadata": {},
   "outputs": [],
   "source": [
    "x_train, y_train = np.array(x_train), np.array(y_train)"
   ]
  },
  {
   "cell_type": "code",
   "execution_count": 14,
   "metadata": {},
   "outputs": [],
   "source": [
    "x_train = np.reshape(x_train, (x_train.shape[0], x_train.shape[1], 1))"
   ]
  },
  {
   "cell_type": "code",
   "execution_count": 15,
   "metadata": {},
   "outputs": [
    {
     "data": {
      "text/plain": [
       "(5043, 60, 1)"
      ]
     },
     "execution_count": 15,
     "metadata": {},
     "output_type": "execute_result"
    }
   ],
   "source": [
    "x_train.shape"
   ]
  },
  {
   "cell_type": "markdown",
   "metadata": {},
   "source": [
    "## Build LSTM"
   ]
  },
  {
   "cell_type": "code",
   "execution_count": 16,
   "metadata": {},
   "outputs": [],
   "source": [
    "model = Sequential()\n",
    "model.add(LSTM(50,return_sequences = True, input_shape = (x_train.shape[1], 1)))\n",
    "model.add(LSTM(50,return_sequences = False))   \n",
    "model.add(Dense(25))\n",
    "model.add(Dense(1))"
   ]
  },
  {
   "cell_type": "code",
   "execution_count": 17,
   "metadata": {},
   "outputs": [],
   "source": [
    "model.compile(optimizer = 'adam', loss = 'mean_squared_error')"
   ]
  },
  {
   "cell_type": "code",
   "execution_count": 18,
   "metadata": {},
   "outputs": [
    {
     "name": "stdout",
     "output_type": "stream",
     "text": [
      "5043/5043 [==============================] - 104s 20ms/step - loss: 2.5317e-04\n"
     ]
    },
    {
     "data": {
      "text/plain": [
       "<tensorflow.python.keras.callbacks.History at 0x2630b93e940>"
      ]
     },
     "execution_count": 18,
     "metadata": {},
     "output_type": "execute_result"
    }
   ],
   "source": [
    "model.fit(x_train, y_train, batch_size=1, epochs=1)"
   ]
  },
  {
   "cell_type": "code",
   "execution_count": 19,
   "metadata": {},
   "outputs": [],
   "source": [
    "test_data = scaled_df[training_data_len - 60: , :]\n",
    "x_test = []\n",
    "y_test = df[training_data_len: , :]\n",
    "for i in range(60,len(test_data)):\n",
    "    x_test.append(test_data[i-60:i, 0])"
   ]
  },
  {
   "cell_type": "code",
   "execution_count": 20,
   "metadata": {},
   "outputs": [],
   "source": [
    "x_test = np.array(x_test)"
   ]
  },
  {
   "cell_type": "code",
   "execution_count": 21,
   "metadata": {},
   "outputs": [],
   "source": [
    "x_test = np.reshape(x_test, (x_test.shape[0], x_test.shape[1], 1))"
   ]
  },
  {
   "cell_type": "markdown",
   "metadata": {},
   "source": [
    "pre"
   ]
  },
  {
   "cell_type": "code",
   "execution_count": 22,
   "metadata": {},
   "outputs": [],
   "source": [
    "predictions = model.predict(x_test)\n",
    "predictions = scaler.inverse_transform(predictions)\n",
    "# predictions = np.array(predictions)\n",
    "# predictions\n",
    "# pred = predictions.flatten()\n",
    "# pred = pred.astype('int')"
   ]
  },
  {
   "cell_type": "code",
   "execution_count": 23,
   "metadata": {},
   "outputs": [
    {
     "data": {
      "text/plain": [
       "9.895588618259804"
      ]
     },
     "execution_count": 23,
     "metadata": {},
     "output_type": "execute_result"
    }
   ],
   "source": [
    "rmse = np.sqrt(np.mean(predictions-y_test)**2)\n",
    "rmse"
   ]
  },
  {
   "cell_type": "markdown",
   "metadata": {},
   "source": [
    "plot"
   ]
  },
  {
   "cell_type": "code",
   "execution_count": null,
   "metadata": {},
   "outputs": [],
   "source": [
    "train = df[:5103]\n",
    "val = df[5103:]\n",
    "val['predictions'] = predictions\n",
    "\n",
    "plt.figure(figsize=(16, 8))\n",
    "plt.title('model')\n",
    "plt.xlabel('Date', fontsize=18)\n",
    "plt.ylabel('Close_Price', fontsize=18)\n",
    "plt.plot(train['Close'])\n",
    "plt.plot(original[['Close','predictions']])\n",
    "plt.legend(['train', 'val', 'predictions'], loc = 'lower right')\n",
    "plt.show()"
   ]
  },
  {
   "cell_type": "code",
   "execution_count": null,
   "metadata": {},
   "outputs": [],
   "source": []
  },
  {
   "cell_type": "code",
   "execution_count": null,
   "metadata": {},
   "outputs": [],
   "source": []
  }
 ],
 "metadata": {
  "kernelspec": {
   "display_name": "Python 3",
   "language": "python",
   "name": "python3"
  },
  "language_info": {
   "codemirror_mode": {
    "name": "ipython",
    "version": 3
   },
   "file_extension": ".py",
   "mimetype": "text/x-python",
   "name": "python",
   "nbconvert_exporter": "python",
   "pygments_lexer": "ipython3",
   "version": "3.8.5"
  }
 },
 "nbformat": 4,
 "nbformat_minor": 4
}
