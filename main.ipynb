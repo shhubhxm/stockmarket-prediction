{
 "cells": [
  {
   "cell_type": "code",
   "execution_count": 1,
   "metadata": {},
   "outputs": [],
   "source": [
    "import yfinance as yf\n",
    "import pandas as pd"
   ]
  },
  {
   "cell_type": "code",
   "execution_count": 2,
   "metadata": {},
   "outputs": [
    {
     "name": "stdout",
     "output_type": "stream",
     "text": [
      "[*********************100%***********************]  1 of 1 completed\n"
     ]
    }
   ],
   "source": [
    "df = yf.download('TATASTEEL.NS')"
   ]
  },
  {
   "cell_type": "code",
   "execution_count": 3,
   "metadata": {},
   "outputs": [
    {
     "data": {
      "text/html": [
       "<div>\n",
       "<style scoped>\n",
       "    .dataframe tbody tr th:only-of-type {\n",
       "        vertical-align: middle;\n",
       "    }\n",
       "\n",
       "    .dataframe tbody tr th {\n",
       "        vertical-align: top;\n",
       "    }\n",
       "\n",
       "    .dataframe thead th {\n",
       "        text-align: right;\n",
       "    }\n",
       "</style>\n",
       "<table border=\"1\" class=\"dataframe\">\n",
       "  <thead>\n",
       "    <tr style=\"text-align: right;\">\n",
       "      <th></th>\n",
       "      <th>Open</th>\n",
       "      <th>High</th>\n",
       "      <th>Low</th>\n",
       "      <th>Close</th>\n",
       "      <th>Adj Close</th>\n",
       "      <th>Volume</th>\n",
       "    </tr>\n",
       "    <tr>\n",
       "      <th>Date</th>\n",
       "      <th></th>\n",
       "      <th></th>\n",
       "      <th></th>\n",
       "      <th></th>\n",
       "      <th></th>\n",
       "      <th></th>\n",
       "    </tr>\n",
       "  </thead>\n",
       "  <tbody>\n",
       "    <tr>\n",
       "      <th>1996-01-01</th>\n",
       "      <td>111.728554</td>\n",
       "      <td>112.149643</td>\n",
       "      <td>110.353004</td>\n",
       "      <td>111.868919</td>\n",
       "      <td>59.070183</td>\n",
       "      <td>1024222</td>\n",
       "    </tr>\n",
       "    <tr>\n",
       "      <th>1996-01-02</th>\n",
       "      <td>111.728554</td>\n",
       "      <td>112.149643</td>\n",
       "      <td>109.510826</td>\n",
       "      <td>109.791557</td>\n",
       "      <td>57.973278</td>\n",
       "      <td>1695431</td>\n",
       "    </tr>\n",
       "    <tr>\n",
       "      <th>1996-01-03</th>\n",
       "      <td>109.791557</td>\n",
       "      <td>112.290009</td>\n",
       "      <td>109.510826</td>\n",
       "      <td>109.819626</td>\n",
       "      <td>57.988106</td>\n",
       "      <td>1351411</td>\n",
       "    </tr>\n",
       "    <tr>\n",
       "      <th>1996-01-04</th>\n",
       "      <td>108.079132</td>\n",
       "      <td>108.079132</td>\n",
       "      <td>103.868256</td>\n",
       "      <td>106.338638</td>\n",
       "      <td>56.150024</td>\n",
       "      <td>3478582</td>\n",
       "    </tr>\n",
       "    <tr>\n",
       "      <th>1996-01-05</th>\n",
       "      <td>105.047302</td>\n",
       "      <td>105.552605</td>\n",
       "      <td>103.166443</td>\n",
       "      <td>104.233200</td>\n",
       "      <td>55.038288</td>\n",
       "      <td>3013803</td>\n",
       "    </tr>\n",
       "  </tbody>\n",
       "</table>\n",
       "</div>"
      ],
      "text/plain": [
       "                  Open        High         Low       Close  Adj Close   Volume\n",
       "Date                                                                          \n",
       "1996-01-01  111.728554  112.149643  110.353004  111.868919  59.070183  1024222\n",
       "1996-01-02  111.728554  112.149643  109.510826  109.791557  57.973278  1695431\n",
       "1996-01-03  109.791557  112.290009  109.510826  109.819626  57.988106  1351411\n",
       "1996-01-04  108.079132  108.079132  103.868256  106.338638  56.150024  3478582\n",
       "1996-01-05  105.047302  105.552605  103.166443  104.233200  55.038288  3013803"
      ]
     },
     "execution_count": 3,
     "metadata": {},
     "output_type": "execute_result"
    }
   ],
   "source": [
    "df.head()"
   ]
  },
  {
   "cell_type": "code",
   "execution_count": 4,
   "metadata": {},
   "outputs": [
    {
     "data": {
      "text/html": [
       "<div>\n",
       "<style scoped>\n",
       "    .dataframe tbody tr th:only-of-type {\n",
       "        vertical-align: middle;\n",
       "    }\n",
       "\n",
       "    .dataframe tbody tr th {\n",
       "        vertical-align: top;\n",
       "    }\n",
       "\n",
       "    .dataframe thead th {\n",
       "        text-align: right;\n",
       "    }\n",
       "</style>\n",
       "<table border=\"1\" class=\"dataframe\">\n",
       "  <thead>\n",
       "    <tr style=\"text-align: right;\">\n",
       "      <th></th>\n",
       "      <th>Open</th>\n",
       "      <th>High</th>\n",
       "      <th>Low</th>\n",
       "      <th>Close</th>\n",
       "      <th>Adj Close</th>\n",
       "      <th>Volume</th>\n",
       "    </tr>\n",
       "    <tr>\n",
       "      <th>Date</th>\n",
       "      <th></th>\n",
       "      <th></th>\n",
       "      <th></th>\n",
       "      <th></th>\n",
       "      <th></th>\n",
       "      <th></th>\n",
       "    </tr>\n",
       "  </thead>\n",
       "  <tbody>\n",
       "    <tr>\n",
       "      <th>2021-05-11</th>\n",
       "      <td>1190.000000</td>\n",
       "      <td>1246.000000</td>\n",
       "      <td>1176.900024</td>\n",
       "      <td>1233.900024</td>\n",
       "      <td>1233.900024</td>\n",
       "      <td>41108381</td>\n",
       "    </tr>\n",
       "    <tr>\n",
       "      <th>2021-05-12</th>\n",
       "      <td>1231.949951</td>\n",
       "      <td>1246.849976</td>\n",
       "      <td>1163.250000</td>\n",
       "      <td>1179.150024</td>\n",
       "      <td>1179.150024</td>\n",
       "      <td>30889192</td>\n",
       "    </tr>\n",
       "    <tr>\n",
       "      <th>2021-05-14</th>\n",
       "      <td>1185.000000</td>\n",
       "      <td>1185.000000</td>\n",
       "      <td>1115.199951</td>\n",
       "      <td>1132.099976</td>\n",
       "      <td>1132.099976</td>\n",
       "      <td>37648032</td>\n",
       "    </tr>\n",
       "    <tr>\n",
       "      <th>2021-05-17</th>\n",
       "      <td>1138.000000</td>\n",
       "      <td>1158.199951</td>\n",
       "      <td>1103.500000</td>\n",
       "      <td>1150.849976</td>\n",
       "      <td>1150.849976</td>\n",
       "      <td>28753430</td>\n",
       "    </tr>\n",
       "    <tr>\n",
       "      <th>2021-05-18</th>\n",
       "      <td>1175.000000</td>\n",
       "      <td>1196.449951</td>\n",
       "      <td>1157.050049</td>\n",
       "      <td>1180.000000</td>\n",
       "      <td>1180.000000</td>\n",
       "      <td>24571703</td>\n",
       "    </tr>\n",
       "  </tbody>\n",
       "</table>\n",
       "</div>"
      ],
      "text/plain": [
       "                   Open         High          Low        Close    Adj Close  \\\n",
       "Date                                                                          \n",
       "2021-05-11  1190.000000  1246.000000  1176.900024  1233.900024  1233.900024   \n",
       "2021-05-12  1231.949951  1246.849976  1163.250000  1179.150024  1179.150024   \n",
       "2021-05-14  1185.000000  1185.000000  1115.199951  1132.099976  1132.099976   \n",
       "2021-05-17  1138.000000  1158.199951  1103.500000  1150.849976  1150.849976   \n",
       "2021-05-18  1175.000000  1196.449951  1157.050049  1180.000000  1180.000000   \n",
       "\n",
       "              Volume  \n",
       "Date                  \n",
       "2021-05-11  41108381  \n",
       "2021-05-12  30889192  \n",
       "2021-05-14  37648032  \n",
       "2021-05-17  28753430  \n",
       "2021-05-18  24571703  "
      ]
     },
     "execution_count": 4,
     "metadata": {},
     "output_type": "execute_result"
    }
   ],
   "source": [
    "df.tail()"
   ]
  },
  {
   "cell_type": "code",
   "execution_count": 5,
   "metadata": {},
   "outputs": [],
   "source": [
    "import numpy as np\n",
    "import math \n",
    "from sklearn.preprocessing import MinMaxScaler\n",
    "import matplotlib.pyplot as plt\n",
    "plt.style.use('fivethirtyeight')\n",
    "from tensorflow.keras.models import Sequential\n",
    "from tensorflow.keras.layers import Dense\n",
    "from tensorflow.keras.layers import LSTM"
   ]
  },
  {
   "cell_type": "code",
   "execution_count": 6,
   "metadata": {},
   "outputs": [
    {
     "data": {
      "text/plain": [
       "(6370, 6)"
      ]
     },
     "execution_count": 6,
     "metadata": {},
     "output_type": "execute_result"
    }
   ],
   "source": [
    "df.shape"
   ]
  },
  {
   "cell_type": "markdown",
   "metadata": {},
   "source": [
    "## Historical Data Graph"
   ]
  },
  {
   "cell_type": "code",
   "execution_count": 7,
   "metadata": {},
   "outputs": [
    {
     "data": {
      "image/png": "[encoded data removed]",
      "text/plain": [
       "<Figure size 1152x576 with 1 Axes>"
      ]
     },
     "metadata": {},
     "output_type": "display_data"
    }
   ],
   "source": [
    "plt.figure(figsize=(16,8))\n",
    "plt.title('historical price')\n",
    "plt.plot(df['Close'])\n",
    "plt.xlabel('Date', fontsize=18)\n",
    "plt.ylabel('Close_Price', fontsize=18)\n",
    "plt.show()"
   ]
  },
  {
   "cell_type": "code",
   "execution_count": 8,
   "metadata": {},
   "outputs": [],
   "source": [
    "df = df['Close']"
   ]
  },
  {
   "cell_type": "code",
   "execution_count": 9,
   "metadata": {},
   "outputs": [
    {
     "name": "stdout",
     "output_type": "stream",
     "text": [
      "[[ 111.86891937]\n",
      " [ 109.79155731]\n",
      " [ 109.81962585]\n",
      " ...\n",
      " [1132.09997559]\n",
      " [1150.84997559]\n",
      " [1180.        ]]\n"
     ]
    }
   ],
   "source": [
    "df = np.array(df).reshape(-1,1)\n",
    "print(df)"
   ]
  },
  {
   "cell_type": "markdown",
   "metadata": {},
   "source": [
    "## Scaled Data"
   ]
  },
  {
   "cell_type": "code",
   "execution_count": 10,
   "metadata": {},
   "outputs": [],
   "source": [
    "scaler = MinMaxScaler(feature_range=(0,1))\n",
    "scaled_df = scaler.fit_transform(np.array(df).reshape(-1,1))"
   ]
  },
  {
   "cell_type": "markdown",
   "metadata": {},
   "source": [
    "training_size=int(len(scaled_df)*0.8)\n",
    "test_size=len(scaled_df)-training_size\n",
    "train_data =scaled_df[0:training_size,:]\n",
    "test_data = scaled_df[training_size:len(scaled_df),:1]\n",
    "training_size,test_size"
   ]
  },
  {
   "cell_type": "markdown",
   "metadata": {},
   "source": [
    "## Train-Test-Split"
   ]
  },
  {
   "cell_type": "code",
   "execution_count": 11,
   "metadata": {},
   "outputs": [
    {
     "data": {
      "text/plain": [
       "5096"
      ]
     },
     "execution_count": 11,
     "metadata": {},
     "output_type": "execute_result"
    }
   ],
   "source": [
    "scaled_df\n",
    "training_data_len = math.ceil(len(scaled_df)*0.8)\n",
    "training_data_len"
   ]
  },
  {
   "cell_type": "code",
   "execution_count": 12,
   "metadata": {},
   "outputs": [
    {
     "name": "stdout",
     "output_type": "stream",
     "text": [
      "[array([0.06195867, 0.06022196, 0.06024542, 0.05733524, 0.05557505,\n",
      "       0.05231284, 0.05191386, 0.05146794, 0.05341589, 0.05308732,\n",
      "       0.05238324, 0.05221896, 0.04937919, 0.04766594, 0.04698533,\n",
      "       0.04780675, 0.04466188, 0.04362924, 0.04200986, 0.04200986,\n",
      "       0.04536595, 0.04602309, 0.04679758, 0.04855777, 0.05440159,\n",
      "       0.05775769, 0.05020061, 0.05341589, 0.06576068, 0.07144023,\n",
      "       0.06564334, 0.06569027, 0.06843617, 0.06705149, 0.0649862 ,\n",
      "       0.06557293, 0.06184133, 0.06184133, 0.06604231, 0.06519743,\n",
      "       0.06578416, 0.06421172, 0.06515049, 0.05902502, 0.06005767,\n",
      "       0.05958829, 0.05958829, 0.06127807, 0.06059746, 0.06015155,\n",
      "       0.05839136, 0.05714749, 0.06066787, 0.0597291 , 0.05780463,\n",
      "       0.05411997, 0.05041183, 0.05041183, 0.05550464, 0.05411997])]\n",
      "[0.056678104143510794]\n",
      "\n"
     ]
    }
   ],
   "source": [
    "train_data = scaled_df[0:training_data_len , :]\n",
    "\n",
    "x_train = []\n",
    "y_train = []\n",
    "\n",
    "for i in range(60, len(train_data)):\n",
    "    x_train.append(train_data[i-60:i, 0])\n",
    "    y_train.append(train_data[i, 0])\n",
    "    if i<= 60:\n",
    "        print(x_train)\n",
    "        print(y_train)\n",
    "        print()"
   ]
  },
  {
   "cell_type": "code",
   "execution_count": 13,
   "metadata": {},
   "outputs": [],
   "source": [
    "x_train, y_train = np.array(x_train), np.array(y_train)"
   ]
  },
  {
   "cell_type": "code",
   "execution_count": 14,
   "metadata": {},
   "outputs": [],
   "source": [
    "x_train = np.reshape(x_train, (x_train.shape[0], x_train.shape[1], 1))"
   ]
  },
  {
   "cell_type": "code",
   "execution_count": 15,
   "metadata": {},
   "outputs": [
    {
     "data": {
      "text/plain": [
       "(5036, 60, 1)"
      ]
     },
     "execution_count": 15,
     "metadata": {},
     "output_type": "execute_result"
    }
   ],
   "source": [
    "x_train.shape"
   ]
  },
  {
   "cell_type": "markdown",
   "metadata": {},
   "source": [
    "## Build LSTM"
   ]
  },
  {
   "cell_type": "code",
   "execution_count": 16,
   "metadata": {},
   "outputs": [],
   "source": [
    "model = Sequential()\n",
    "model.add(LSTM(50,return_sequences = True, input_shape = (x_train.shape[1], 1)))\n",
    "model.add(LSTM(50,return_sequences = False))   \n",
    "model.add(Dense(25))\n",
    "model.add(Dense(1))"
   ]
  },
  {
   "cell_type": "code",
   "execution_count": 17,
   "metadata": {},
   "outputs": [],
   "source": [
    "model.compile(optimizer = 'adam', loss = 'mean_squared_error')"
   ]
  },
  {
   "cell_type": "code",
   "execution_count": null,
   "metadata": {},
   "outputs": [
    {
     "name": "stdout",
     "output_type": "stream",
     "text": [
      "3403/5036 [===================>..........] - ETA: 34s - loss: 0.0011"
     ]
    }
   ],
   "source": [
    "model.fit(x_train, y_train, batch_size=1, epochs=1)"
   ]
  },
  {
   "cell_type": "code",
   "execution_count": null,
   "metadata": {},
   "outputs": [],
   "source": [
    "test_data = scaled_df[training_data_len - 60: , :]\n",
    "x_test = []\n",
    "y_test = df[training_data_len: , :]\n",
    "for i in range(60,len(test_data)):\n",
    "    x_test.append(test_data[i-60:i, 0])"
   ]
  },
  {
   "cell_type": "code",
   "execution_count": null,
   "metadata": {},
   "outputs": [],
   "source": [
    "x_test = np.array(x_test)"
   ]
  },
  {
   "cell_type": "code",
   "execution_count": null,
   "metadata": {},
   "outputs": [],
   "source": [
    "x_test = np.reshape(x_test, (x_test.shape[0], x_test.shape[1], 1))"
   ]
  },
  {
   "cell_type": "markdown",
   "metadata": {},
   "source": [
    "pre"
   ]
  },
  {
   "cell_type": "code",
   "execution_count": null,
   "metadata": {},
   "outputs": [],
   "source": [
    "predictions = model.predict(x_test)\n",
    "predictions = scaler.inverse_transform(predictions)\n",
    "# predictions = np.array(predictions)\n",
    "# predictions\n",
    "# pred = predictions.flatten()\n",
    "# pred = pred.astype('int')"
   ]
  },
  {
   "cell_type": "code",
   "execution_count": null,
   "metadata": {},
   "outputs": [],
   "source": [
    "rmse = np.sqrt(np.mean(predictions-y_test)**2)\n",
    "rmse"
   ]
  },
  {
   "cell_type": "markdown",
   "metadata": {},
   "source": [
    "## Plotting test-data vs prediction by model"
   ]
  },
  {
   "cell_type": "markdown",
   "metadata": {},
   "source": [
    "train = df[:5103]\n",
    "val = df[5103:]\n",
    "val['predictions'] = predictions\n",
    "\n",
    "plt.figure(figsize=(16, 8))\n",
    "plt.title('model')\n",
    "plt.xlabel('Date', fontsize=18)\n",
    "plt.ylabel('Close_Price', fontsize=18)\n",
    "plt.plot(train['Close'])\n",
    "plt.plot(original[['Close','predictions']])\n",
    "plt.legend(['train', 'val', 'predictions'], loc = 'lower right')\n",
    "plt.plot(train, val)\n",
    "plt.show()"
   ]
  },
  {
   "cell_type": "code",
   "execution_count": null,
   "metadata": {},
   "outputs": [],
   "source": [
    "test = df[training_data_len:]\n",
    "plt.figure(figsize=(16,8))\n",
    "plt.title('historical price')\n",
    "plt.plot(test)\n",
    "plt.plot(predictions)\n",
    "# plt.plot('Close')\n",
    "plt.xlabel('Days', fontsize=18)\n",
    "plt.ylabel('Close_Price', fontsize=18)\n",
    "plt.legend(['test', 'predictions'], loc = 'lower right')\n",
    "plt.show()"
   ]
  },
  {
   "cell_type": "code",
   "execution_count": null,
   "metadata": {},
   "outputs": [],
   "source": [
    "some_data = y_test[5:]"
   ]
  },
  {
   "cell_type": "code",
   "execution_count": null,
   "metadata": {},
   "outputs": [],
   "source": [
    "some_labels = predictions[5:]"
   ]
  },
  {
   "cell_type": "code",
   "execution_count": null,
   "metadata": {},
   "outputs": [],
   "source": [
    "some_data, some_labels"
   ]
  }
 ],
 "metadata": {
  "kernelspec": {
   "display_name": "Python 3",
   "language": "python",
   "name": "python3"
  },
  "language_info": {
   "codemirror_mode": {
    "name": "ipython",
    "version": 3
   },
   "file_extension": ".py",
   "mimetype": "text/x-python",
   "name": "python",
   "nbconvert_exporter": "python",
   "pygments_lexer": "ipython3",
   "version": "3.8.5"
  }
 },
 "nbformat": 4,
 "nbformat_minor": 4
}
